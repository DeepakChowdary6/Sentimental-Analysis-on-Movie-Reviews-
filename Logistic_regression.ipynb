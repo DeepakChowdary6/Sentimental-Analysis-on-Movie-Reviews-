{
 "cells": [
  {
   "cell_type": "code",
   "execution_count": 1,
   "metadata": {},
   "outputs": [
    {
     "data": {
      "text/html": [
       "<div>\n",
       "<style scoped>\n",
       "    .dataframe tbody tr th:only-of-type {\n",
       "        vertical-align: middle;\n",
       "    }\n",
       "\n",
       "    .dataframe tbody tr th {\n",
       "        vertical-align: top;\n",
       "    }\n",
       "\n",
       "    .dataframe thead th {\n",
       "        text-align: right;\n",
       "    }\n",
       "</style>\n",
       "<table border=\"1\" class=\"dataframe\">\n",
       "  <thead>\n",
       "    <tr style=\"text-align: right;\">\n",
       "      <th></th>\n",
       "      <th>review</th>\n",
       "      <th>sentiment</th>\n",
       "    </tr>\n",
       "  </thead>\n",
       "  <tbody>\n",
       "    <tr>\n",
       "      <th>0</th>\n",
       "      <td>b'plot : two teen couples go to a church party...</td>\n",
       "      <td>0</td>\n",
       "    </tr>\n",
       "    <tr>\n",
       "      <th>1</th>\n",
       "      <td>b'the happy bastard\\'s quick movie review \\nda...</td>\n",
       "      <td>0</td>\n",
       "    </tr>\n",
       "    <tr>\n",
       "      <th>2</th>\n",
       "      <td>b\"it is movies like these that make a jaded mo...</td>\n",
       "      <td>0</td>\n",
       "    </tr>\n",
       "    <tr>\n",
       "      <th>3</th>\n",
       "      <td>b' \" quest for camelot \" is warner bros . \\' f...</td>\n",
       "      <td>0</td>\n",
       "    </tr>\n",
       "    <tr>\n",
       "      <th>4</th>\n",
       "      <td>b'synopsis : a mentally unstable man undergoin...</td>\n",
       "      <td>0</td>\n",
       "    </tr>\n",
       "    <tr>\n",
       "      <th>...</th>\n",
       "      <td>...</td>\n",
       "      <td>...</td>\n",
       "    </tr>\n",
       "    <tr>\n",
       "      <th>1995</th>\n",
       "      <td>b\"wow ! what a movie . \\nit's everything a mov...</td>\n",
       "      <td>1</td>\n",
       "    </tr>\n",
       "    <tr>\n",
       "      <th>1996</th>\n",
       "      <td>b'richard gere can be a commanding actor , but...</td>\n",
       "      <td>1</td>\n",
       "    </tr>\n",
       "    <tr>\n",
       "      <th>1997</th>\n",
       "      <td>b'glory--starring matthew broderick , denzel w...</td>\n",
       "      <td>1</td>\n",
       "    </tr>\n",
       "    <tr>\n",
       "      <th>1998</th>\n",
       "      <td>b'steven spielberg\\'s second epic film on worl...</td>\n",
       "      <td>1</td>\n",
       "    </tr>\n",
       "    <tr>\n",
       "      <th>1999</th>\n",
       "      <td>b'truman ( \" true-man \" ) burbank is the perfe...</td>\n",
       "      <td>1</td>\n",
       "    </tr>\n",
       "  </tbody>\n",
       "</table>\n",
       "<p>2000 rows × 2 columns</p>\n",
       "</div>"
      ],
      "text/plain": [
       "                                                 review  sentiment\n",
       "0     b'plot : two teen couples go to a church party...          0\n",
       "1     b'the happy bastard\\'s quick movie review \\nda...          0\n",
       "2     b\"it is movies like these that make a jaded mo...          0\n",
       "3     b' \" quest for camelot \" is warner bros . \\' f...          0\n",
       "4     b'synopsis : a mentally unstable man undergoin...          0\n",
       "...                                                 ...        ...\n",
       "1995  b\"wow ! what a movie . \\nit's everything a mov...          1\n",
       "1996  b'richard gere can be a commanding actor , but...          1\n",
       "1997  b'glory--starring matthew broderick , denzel w...          1\n",
       "1998  b'steven spielberg\\'s second epic film on worl...          1\n",
       "1999  b'truman ( \" true-man \" ) burbank is the perfe...          1\n",
       "\n",
       "[2000 rows x 2 columns]"
      ]
     },
     "execution_count": 1,
     "metadata": {},
     "output_type": "execute_result"
    }
   ],
   "source": [
    "import pandas as pd\n",
    "from os import listdir\n",
    "import os\n",
    "import glob\n",
    "\n",
    "import re\n",
    "#import all the negative reviews into dataframe\n",
    "texts=[]\n",
    "folder_path = 'neg'\n",
    "for filename in glob.glob(os.path.join(folder_path, '*.txt')):\n",
    " with open(filename, 'rb') as f:\n",
    "  text = f.read()\n",
    "  texts.append(text)\n",
    "df1=pd.DataFrame(texts)\n",
    "df1.rename(columns={ df1.columns[0]: \"review\" }, inplace = True)\n",
    "#sentiment 0 for negative reviews\n",
    "df1['sentiment']=0\n",
    "\n",
    "#import all positive reviews into dataframe\n",
    "texts=[]\n",
    "folder_path='pos'\n",
    "for filename in glob.glob(os.path.join(folder_path, '*.txt')):\n",
    " with open(filename, 'rb') as f:\n",
    "  text = f.read()\n",
    "  texts.append(text)\n",
    "df2=pd.DataFrame(texts)\n",
    "df2.rename(columns={ df2.columns[0]: \"review\" }, inplace = True)\n",
    "# sentiment 1 for positive reviews\n",
    "df2['sentiment']=1\n",
    "frames=[df1,df2]\n",
    "df = pd.concat(frames)\n",
    "\n",
    "\n",
    "df = df.reset_index()\n",
    "#len(df)\n",
    "df=df.drop(['index'], axis = 1)\n",
    "df"
   ]
  },
  {
   "cell_type": "code",
   "execution_count": 2,
   "metadata": {},
   "outputs": [],
   "source": [
    "from nltk.stem.porter import PorterStemmer\n",
    "porter = PorterStemmer()\n",
    "#remove all the unecessary symbols and tags from the text\n",
    "def preprocessor(text):\n",
    "   text =re.sub(\"<[^>]*>\", \"\", text)\n",
    "   emoticons = re.findall(\"(?::|;|=)(?:-)?(?:\\)|\\(|D|P)\", text)\n",
    "   text = re.sub(\"[\\W]+\", \" \" , text.lower()) + \" \".join(emoticons).replace(\"-\", \"\")\n",
    "   return text\n",
    "\n",
    "#split the text and make each word into tokens\n",
    "def tokenizer(text):\n",
    "   return text.split()\n",
    "\n",
    "def tokenizer_stemmer(text):\n",
    " return[porter.stem(word) for word in text.split()]"
   ]
  },
  {
   "cell_type": "code",
   "execution_count": 3,
   "metadata": {},
   "outputs": [],
   "source": [
    "\n",
    "import numpy as np\n",
    "from sklearn.feature_extraction.text import TfidfTransformer\n",
    "np.set_printoptions(precision=2)\n",
    "tfidf = TfidfTransformer(use_idf=True, smooth_idf=True)"
   ]
  },
  {
   "cell_type": "code",
   "execution_count": 4,
   "metadata": {},
   "outputs": [
    {
     "data": {
      "text/plain": [
       "2000"
      ]
     },
     "execution_count": 4,
     "metadata": {},
     "output_type": "execute_result"
    }
   ],
   "source": [
    "#vectorize all the reviews\n",
    "df = df.sample(frac = 1) \n",
    "from sklearn.feature_extraction.text import TfidfVectorizer\n",
    "tfidf = TfidfVectorizer(strip_accents=None,lowercase=True,preprocessor=preprocessor, tokenizer=tokenizer_stemmer,use_idf=True,norm=\"l2\",smooth_idf=True)\n",
    "y = df.sentiment.values\n",
    "X = tfidf.fit_transform(df['review'])\n",
    "len(df.review)"
   ]
  },
  {
   "cell_type": "code",
   "execution_count": 5,
   "metadata": {},
   "outputs": [
    {
     "name": "stderr",
     "output_type": "stream",
     "text": [
      "[Parallel(n_jobs=-1)]: Using backend LokyBackend with 12 concurrent workers.\n",
      "[Parallel(n_jobs=-1)]: Done   2 out of   5 | elapsed:   43.3s remaining:  1.1min\n",
      "[Parallel(n_jobs=-1)]: Done   5 out of   5 | elapsed:   44.4s finished\n"
     ]
    }
   ],
   "source": [
    "from sklearn.model_selection import train_test_split\n",
    "#logistic rfegression model with 5 fold cross validation\n",
    "from sklearn.linear_model import LogisticRegressionCV\n",
    "X_train, X_test, y_train, y_test = train_test_split(X, y, random_state=1, test_size=0.5, shuffle=False)\n",
    "clf = LogisticRegressionCV(cv=5,scoring=\"accuracy\",random_state=0,n_jobs=-1,verbose=3,max_iter=300).fit(X_train, y_train)"
   ]
  },
  {
   "cell_type": "code",
   "execution_count": 6,
   "metadata": {},
   "outputs": [
    {
     "data": {
      "text/plain": [
       "0.813"
      ]
     },
     "execution_count": 6,
     "metadata": {},
     "output_type": "execute_result"
    }
   ],
   "source": [
    "clf.score(X_test,y_test)"
   ]
  },
  {
   "cell_type": "code",
   "execution_count": null,
   "metadata": {},
   "outputs": [],
   "source": []
  }
 ],
 "metadata": {
  "kernelspec": {
   "display_name": "PyCharm (pandas)",
   "language": "python",
   "name": "pycharm-1421b12e"
  },
  "language_info": {
   "codemirror_mode": {
    "name": "ipython",
    "version": 3
   },
   "file_extension": ".py",
   "mimetype": "text/x-python",
   "name": "python",
   "nbconvert_exporter": "python",
   "pygments_lexer": "ipython3",
   "version": "3.7.9"
  }
 },
 "nbformat": 4,
 "nbformat_minor": 4
}
